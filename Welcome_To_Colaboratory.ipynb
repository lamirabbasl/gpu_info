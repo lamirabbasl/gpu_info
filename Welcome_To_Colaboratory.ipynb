{
  "cells": [
    {
      "cell_type": "markdown",
      "metadata": {
        "id": "view-in-github",
        "colab_type": "text"
      },
      "source": [
        "<a href=\"https://colab.research.google.com/github/lamirabbasl/gpu_info/blob/main/Welcome_To_Colaboratory.ipynb\" target=\"_parent\"><img src=\"https://colab.research.google.com/assets/colab-badge.svg\" alt=\"Open In Colab\"/></a>"
      ]
    },
    {
      "cell_type": "code",
      "source": [
        "pip install nvcc4jupyter"
      ],
      "metadata": {
        "id": "2j0aOiJu5fRB",
        "outputId": "b355b552-73d0-4cab-b490-65608ddc74a0",
        "colab": {
          "base_uri": "https://localhost:8080/"
        }
      },
      "execution_count": 6,
      "outputs": [
        {
          "output_type": "stream",
          "name": "stdout",
          "text": [
            "Collecting nvcc4jupyter\n",
            "  Downloading nvcc4jupyter-1.2.1-py3-none-any.whl (10 kB)\n",
            "Installing collected packages: nvcc4jupyter\n",
            "Successfully installed nvcc4jupyter-1.2.1\n"
          ]
        }
      ]
    },
    {
      "cell_type": "code",
      "source": [
        "%load_ext nvcc4jupyter\n"
      ],
      "metadata": {
        "id": "CKJnlskM5lyd",
        "outputId": "cc5eabaf-ce96-40da-9fba-b3c8acd5f07b",
        "colab": {
          "base_uri": "https://localhost:8080/"
        }
      },
      "execution_count": 7,
      "outputs": [
        {
          "output_type": "stream",
          "name": "stdout",
          "text": [
            "Detected platform \"Colab\". Running its setup...\n",
            "Source files will be saved in \"/tmp/tmpdkqpvz8y\".\n"
          ]
        }
      ]
    },
    {
      "cell_type": "code",
      "source": [
        "%%cuda\n",
        "#include <stdio.h>\n",
        "\n",
        "int main() {\n",
        "    int deviceCount;\n",
        "    cudaGetDeviceCount(&deviceCount);\n",
        "\n",
        "    printf(\"Number of GPUs available: %d\\n\", deviceCount);\n",
        "\n",
        "    for (int i = 0; i < deviceCount; ++i) {\n",
        "        cudaDeviceProp deviceProp;\n",
        "        cudaGetDeviceProperties(&deviceProp, i);\n",
        "\n",
        "        printf(\"\\nGPU Number %d:\\n\", i);\n",
        "        printf(\"  Name: %s\\n\", deviceProp.name);\n",
        "        printf(\"  Max threads per block: %d\\n\", deviceProp.maxThreadsPerBlock);\n",
        "        printf(\"  Number of SMs: %d\\n\", deviceProp.multiProcessorCount);\n",
        "        printf(\"  Max threads per SM: %d\\n\", deviceProp.maxThreadsPerMultiProcessor);\n",
        "        printf(\"  Clock rate: %d kHz\\n\", deviceProp.clockRate);\n",
        "        printf(\"  Max threads dimensions: (%d, %d, %d)\\n\", deviceProp.maxThreadsDim[0],\n",
        "               deviceProp.maxThreadsDim[1], deviceProp.maxThreadsDim[2]);\n",
        "        printf(\"  Max grid dimensions: (%d, %d, %d)\\n\", deviceProp.maxGridSize[0],\n",
        "               deviceProp.maxGridSize[1], deviceProp.maxGridSize[2]);\n",
        "        printf(\"  Warp size: %d\\n\", deviceProp.warpSize);\n",
        "        printf(\"  Total global memory: %zu bytes\\n\", deviceProp.totalGlobalMem);\n",
        "        printf(\"  Shared memory per block: %zu bytes\\n\", deviceProp.sharedMemPerBlock);\n",
        "        printf(\"  Total constant memory: %zu bytes\\n\", deviceProp.totalConstMem);\n",
        "        printf(\"  Registers per block: %d\\n\", deviceProp.regsPerBlock);\n",
        "        printf(\"  Memory clock rate: %d kHz\\n\", deviceProp.memoryClockRate);\n",
        "        printf(\"  Memory bus width: %d bits\\n\", deviceProp.memoryBusWidth);\n",
        "        printf(\"  Compute Capability: %d.%d\\n\", deviceProp.major, deviceProp.minor);\n",
        "    }\n",
        "\n",
        "    return 0;\n",
        "}\n"
      ],
      "metadata": {
        "id": "sg55JoHn5n1P",
        "outputId": "cb3c1ca9-1f22-4387-c55c-667aec9e7a93",
        "colab": {
          "base_uri": "https://localhost:8080/"
        }
      },
      "execution_count": 8,
      "outputs": [
        {
          "output_type": "stream",
          "name": "stdout",
          "text": [
            "Number of GPUs available: 1\n",
            "\n",
            "GPU Number 0:\n",
            "  Name: Tesla T4\n",
            "  Max threads per block: 1024\n",
            "  Number of SMs: 40\n",
            "  Max threads per SM: 1024\n",
            "  Clock rate: 1590000 kHz\n",
            "  Max threads dimensions: (1024, 1024, 64)\n",
            "  Max grid dimensions: (2147483647, 65535, 65535)\n",
            "  Warp size: 32\n",
            "  Total global memory: 15835660288 bytes\n",
            "  Shared memory per block: 49152 bytes\n",
            "  Total constant memory: 65536 bytes\n",
            "  Registers per block: 65536\n",
            "  Memory clock rate: 5001000 kHz\n",
            "  Memory bus width: 256 bits\n",
            "  Compute Capability: 7.5\n",
            "\n"
          ]
        }
      ]
    }
  ],
  "metadata": {
    "colab": {
      "name": "Welcome To Colaboratory",
      "provenance": [],
      "gpuType": "T4",
      "include_colab_link": true
    },
    "kernelspec": {
      "display_name": "Python 3",
      "name": "python3"
    },
    "accelerator": "GPU"
  },
  "nbformat": 4,
  "nbformat_minor": 0
}